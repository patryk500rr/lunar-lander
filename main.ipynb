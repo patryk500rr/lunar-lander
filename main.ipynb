{
 "cells": [
  {
   "cell_type": "code",
   "execution_count": 7,
   "id": "41d16b8c-b8d6-446a-afeb-7616d8d0c28e",
   "metadata": {},
   "outputs": [],
   "source": [
    "import tensorflow as tf\n",
    "import matplotlib.pyplot as plt\n",
    "import numpy as np\n",
    "import gymnasium as gym\n",
    "from IPython.display import clear_output\n",
    "from collections import deque, namedtuple\n",
    "import random\n",
    "import time"
   ]
  },
  {
   "cell_type": "code",
   "execution_count": 8,
   "id": "02366683-2878-484c-a9e1-44e59eaeda3a",
   "metadata": {},
   "outputs": [],
   "source": [
    "env_preview = gym.make('LunarLander-v3', render_mode = 'rgb_array_list')"
   ]
  },
  {
   "cell_type": "code",
   "execution_count": 9,
   "id": "5227c63d-837f-45a1-86c8-9d9a79e8ac78",
   "metadata": {},
   "outputs": [],
   "source": [
    "observation_preview, info_preview = env_preview.reset(seed=42)"
   ]
  },
  {
   "cell_type": "code",
   "execution_count": 10,
   "id": "082ee6a4-8dc0-4bac-ac67-97204fdd6cb1",
   "metadata": {},
   "outputs": [
    {
     "data": {
      "image/png": "[encoded data removed]",
      "text/plain": [
       "<Figure size 640x480 with 1 Axes>"
      ]
     },
     "metadata": {},
     "output_type": "display_data"
    }
   ],
   "source": [
    "for _ in range(1000):\n",
    "    obs_pre, reward_pre, done_pre, _, _ = env_preview.step(env_preview.action_space.sample())\n",
    "    clear_output(wait=True)\n",
    "    plt.imshow(env_preview.render()[0])\n",
    "    if done_pre:\n",
    "        break\n",
    "    plt.show()\n",
    "env_preview.close()"
   ]
  },
  {
   "cell_type": "code",
   "execution_count": 11,
   "id": "86f8d42c-d7f8-428e-b7ac-079efc0fbfb6",
   "metadata": {},
   "outputs": [
    {
     "data": {
      "text/plain": [
       "(array([-0.007654  ,  1.4211096 , -0.7752808 ,  0.45283657,  0.00887584,\n",
       "         0.17561252,  0.        ,  0.        ], dtype=float32),\n",
       " {})"
      ]
     },
     "execution_count": 11,
     "metadata": {},
     "output_type": "execute_result"
    }
   ],
   "source": [
    "env = gym.make('LunarLander-v3', render_mode='human')\n",
    "n_actions = env.action_space.n\n",
    "state_shape = env.observation_space.shape\n",
    "\n",
    "env.reset()"
   ]
  },
  {
   "cell_type": "code",
   "execution_count": 57,
   "id": "1be90169-a79a-441c-a9e3-6bfa56877d04",
   "metadata": {},
   "outputs": [],
   "source": [
    "# Helper functions\n",
    "def get_new_eps(eps, eps_min, eps_decay_rate):\n",
    "    eps = max(eps_min, eps * eps_decay_rate)\n",
    "    return eps\n",
    "\n",
    "\n",
    "def soft_update_target(tau, target_q_network, q_network):\n",
    "    \"\"\"\n",
    "        Updates target_q_network weights using soft_update rule\n",
    "\n",
    "        Args:\n",
    "            -tau (float): hyperparameter- how aggresive we want to be with updates\n",
    "            -target_q_network (tf model)\n",
    "            -q_network (tf_model)\n",
    "        Returns:\n",
    "            -None\n",
    "    \"\"\"\n",
    "    for target_weights, q_weights in zip(target_q_network.weights, q_network.weights):\n",
    "        target_weights.assign(tau * q_weights + (1 - tau) * target_weights)\n",
    "\n",
    "\n",
    "\n",
    "def get_action(q_values, eps, n_actions=4):\n",
    "    \"\"\"\n",
    "        Chooses an action given by q_values using e-greedy policy\n",
    "\n",
    "        Args:\n",
    "            q_values (tf tensor): propabilities for each action at given state\n",
    "            eps (float): how much we want to explore or exploate\n",
    "        return:\n",
    "            action (int)\n",
    "    \"\"\"\n",
    "    if random.random() > eps:\n",
    "        action = np.argmax(q_values.numpy()[0])\n",
    "        return action\n",
    "    else:\n",
    "        return random.choice(np.arange(n_actions))\n",
    "\n",
    "\n",
    "def get_minibatch(memory_buffer, minibatch_size):\n",
    "    \"\"\"\n",
    "        Return a random sample from memory_buffer\n",
    "\n",
    "        Args:\n",
    "            -memory_buffer (deque): states, actions, rewards, next_states, done_vals\n",
    "            -minibatch_size (int): size of random sample that will be returned\n",
    "        Returns:\n",
    "            -Experiences (tuple, dtype: tf.float32): states, actions, rewards, next_states, done_vals    | of len minibatch_size\n",
    "    \"\"\"\n",
    "    experiences = random.sample(memory_buffer, k=minibatch_size)\n",
    "    \n",
    "    states = tf.convert_to_tensor(\n",
    "        np.array([e.state for e in experiences if e is not None]), dtype=tf.float32\n",
    "    )   \n",
    "    actions = tf.convert_to_tensor(\n",
    "        np.array([e.action for e in experiences if e is not None]), dtype=tf.float32\n",
    "    )  \n",
    "    rewards = tf.convert_to_tensor(\n",
    "        np.array([e.reward for e in experiences if e is not None]), dtype=tf.float32\n",
    "    )  \n",
    "    next_states = tf.convert_to_tensor(\n",
    "        np.array([e.next_state for e in experiences if e is not None]), dtype=tf.float32\n",
    "    )  \n",
    "    done_vals = tf.convert_to_tensor(\n",
    "        np.array([e.done for e in experiences if e is not None]).astype(np.uint8), dtype=tf.float32\n",
    "    )  \n",
    "\n",
    "    return (states, actions, rewards, next_states, done_vals)\n",
    "\n",
    "\n",
    "\n",
    "def check_update_conditions(t, memory_buffer, num_steps_for_update, minibatch_size):\n",
    "    \"\"\"\n",
    "        Checks if we can update weights at given iteration\n",
    "\n",
    "        Args:\n",
    "            -t: num step at given episode\n",
    "            -memory_buffer (deque): states, actions, rewards, next_states, done_vals\n",
    "            -num_steps_for_update (int): hyperparameter\n",
    "            -minibatch_size (int)\n",
    "        Returns:\n",
    "            -(bool): whether we can train agent at given t\n",
    "    \"\"\"\n",
    "    m = len(memory_buffer)\n",
    "    if (t + 1) % num_steps_for_update == 0 and m > minibatch_size:\n",
    "        return True\n",
    "    else:\n",
    "        return False\n",
    "    \n",
    "    "
   ]
  },
  {
   "cell_type": "code",
   "execution_count": 58,
   "id": "7875c003-c915-4054-adf4-6e2d1aa4c914",
   "metadata": {},
   "outputs": [],
   "source": [
    "hyperparameters = {\n",
    "    'learning_rate': 1e-3,\n",
    "    'tau': 1e-3,\n",
    "    'minibatch_size': 64,\n",
    "    'eps_decay_rate': 0.995,\n",
    "    'gamma': 0.995,\n",
    "    'eps_min': 0.01,\n",
    "    'num_steps_for_update': 4\n",
    "}"
   ]
  },
  {
   "cell_type": "code",
   "execution_count": 59,
   "id": "8359fde2-6ee6-4131-b49c-ad778712f1e2",
   "metadata": {},
   "outputs": [],
   "source": [
    "q_network = tf.keras.Sequential([\n",
    "    tf.keras.Input(shape=state_shape),\n",
    "    tf.keras.layers.Dense(units=64, activation='relu'),\n",
    "    tf.keras.layers.Dense(units=64, activation='relu'),\n",
    "    tf.keras.layers.Dense(units=n_actions, activation=None)\n",
    "])\n",
    "target_q_network = tf.keras.Sequential([\n",
    "    tf.keras.Input(shape=state_shape),\n",
    "    tf.keras.layers.Dense(units=64, activation='relu'),\n",
    "    tf.keras.layers.Dense(units=64, activation='relu'),\n",
    "    tf.keras.layers.Dense(units=n_actions, activation=None)\n",
    "])\n",
    "target_q_network.set_weights(q_network.get_weights())"
   ]
  },
  {
   "cell_type": "code",
   "execution_count": 60,
   "id": "0ef7842c-f696-4ab1-8642-0f7fe0975c52",
   "metadata": {},
   "outputs": [],
   "source": [
    "learning_rate = hyperparameters['learning_rate']\n",
    "optimizer = tf.keras.optimizers.Adam(learning_rate=learning_rate)"
   ]
  },
  {
   "cell_type": "code",
   "execution_count": 61,
   "id": "afd526f7-a0eb-45a0-9421-37757eb40642",
   "metadata": {},
   "outputs": [],
   "source": [
    "def compute_loss(experiences, gamma, q_network, target_q_network):\n",
    "    \"\"\"\n",
    "        Calculates the loss\n",
    "\n",
    "        Args:\n",
    "            -experiences (tuple) of namedtuples\n",
    "            -gamma (float): hyperparameter- how impaceint our agent is, lower means the agent will try to solve env faster\n",
    "            -q_network (tf model): will be used to predict best action in given state\n",
    "            -target_q_network (tf model): will be used to approximate Q(s, a)\n",
    "    \"\"\"\n",
    "    states, actions, rewards, next_states, done_vals = experiences\n",
    "    max_qsa = tf.reduce_max(target_q_network(next_states), axis=1) # our Q function from bellman equation, we are getting best action for next_state from experiences\n",
    "    y_targets = rewards + gamma * max_qsa * (1 - done_vals)\n",
    "\n",
    "    q_values = q_network(states)\n",
    "    q_values = tf.gather_nd(q_values, tf.stack((tf.range(q_values.shape[0]),                        # Making sure to calculate loss from action the agent actually did, not from the one with hithest prob, but other one was choosen because of eps greedy policy\n",
    "                                                tf.cast(actions, tf.int32)), axis=1))\n",
    "\n",
    "    loss = tf.keras.losses.MSE(y_targets, q_values)\n",
    "\n",
    "    return loss"
   ]
  },
  {
   "cell_type": "code",
   "execution_count": 62,
   "id": "0cff94e7-fc2a-4c60-bb54-4062b2e85a1f",
   "metadata": {},
   "outputs": [],
   "source": [
    "@tf.function\n",
    "def agent_learn(experiences, gamma, tau):\n",
    "    \"\"\"\n",
    "        Updates weights of Q network\n",
    "\n",
    "        Args:\n",
    "            -Experiences (tuple, dtype: tf.float32): states, actions, rewards, next_states, done_vals    | of len minibatch_size\n",
    "            -Gamma (float): hyperparameter\n",
    "        Returns:\n",
    "            None\n",
    "    \"\"\"\n",
    "    with tf.GradientTape() as tape:\n",
    "        loss = compute_loss(experiences, gamma, q_network, target_q_network)\n",
    "\n",
    "    grads = tape.gradient(loss, q_network.trainable_variables)\n",
    "    optimizer.apply_gradients(zip(grads, q_network.trainable_variables))\n",
    "\n",
    "    soft_update_target(tau, target_q_network, q_network)"
   ]
  },
  {
   "cell_type": "code",
   "execution_count": 63,
   "id": "3463b184-dfc2-49f2-abc9-909ebc5e1088",
   "metadata": {},
   "outputs": [],
   "source": [
    "experience = namedtuple('Experience', field_names=['state', 'action', 'reward', 'next_state', 'done'])"
   ]
  },
  {
   "cell_type": "code",
   "execution_count": null,
   "id": "49894c2e-f283-413a-884a-9f6482b3637c",
   "metadata": {},
   "outputs": [],
   "source": [
    "memory_size = 100_000\n",
    "\n",
    "num_episodes = 2000\n",
    "max_num_timesteps = 1000\n",
    "memory_buffer = deque(maxlen=memory_size)\n",
    "\n",
    "epsilon = 1.0\n",
    "\n",
    "total_point_history = []\n",
    "\n",
    "start = time.time()\n",
    "\n",
    "for i in range(num_episodes):\n",
    "    state, _ = env.reset()\n",
    "    total_points = 0\n",
    "\n",
    "    for t in range(max_num_timesteps):\n",
    "        state_q = np.expand_dims(state, axis=0)\n",
    "        q_values = q_network(state_q)\n",
    "\n",
    "        action = get_action(q_values, epsilon)\n",
    "\n",
    "        next_state, reward, done, _, _ = env.step(action)\n",
    "\n",
    "        memory_buffer.append(experience(state, action, reward, next_state, done))\n",
    "\n",
    "        update = check_update_conditions(t, memory_buffer, hyperparameters['num_steps_for_update'], hyperparameters['minibatch_size'])\n",
    "\n",
    "        if update:\n",
    "            minibatch = get_minibatch(memory_buffer, hyperparameters['minibatch_size'])\n",
    "\n",
    "            agent_learn(minibatch, hyperparameters['gamma'], hyperparameters['tau'])\n",
    "\n",
    "        state = next_state.copy()\n",
    "        total_points += reward\n",
    "\n",
    "        if done:\n",
    "            break\n",
    "\n",
    "    total_point_history.append(total_points)\n",
    "    epsilon = get_new_eps(epsilon, hyperparameters['eps_min'], hyperparameters['eps_decay_rate'])\n",
    "\n",
    "    if len(total_point_history) >= 150:\n",
    "        av_latest_points = np.mean(total_point_history[-150])\n",
    "\n",
    "        if (i + 1) % 150 == 0:\n",
    "            print(f'Avg points from the las 150 episodes: {av_latest_points:.2f}')\n",
    "\n",
    "        if av_latest_points >= 200.0:\n",
    "            print(f'Scored 200 points in enviorment after {i} iterations.')\n",
    "            q_network.save('lunar_lander_model.h5')\n",
    "            break\n",
    "\n",
    "print(f'Total duration {((time.time() - start)/60):.2f} min')"
   ]
  },
  {
   "cell_type": "code",
   "execution_count": null,
   "id": "5f2e1c5c-dbc3-4919-929b-99029e197547",
   "metadata": {},
   "outputs": [],
   "source": [
    "iteration = np.arange(len(total_point_history))\n",
    "\n",
    "plt.plot(iteration, total_point_history)\n",
    "plt.set_xticks([])\n",
    "plt.set_yticks([])\n",
    "plt.xlabel('Iteration')\n",
    "plt"
   ]
  }
 ],
 "metadata": {
  "kernelspec": {
   "display_name": "Flood-ML (venv)",
   "language": "python",
   "name": "venv"
  },
  "language_info": {
   "codemirror_mode": {
    "name": "ipython",
    "version": 3
   },
   "file_extension": ".py",
   "mimetype": "text/x-python",
   "name": "python",
   "nbconvert_exporter": "python",
   "pygments_lexer": "ipython3",
   "version": "3.10.11"
  }
 },
 "nbformat": 4,
 "nbformat_minor": 5
}
